{
 "cells": [
  {
   "cell_type": "code",
   "execution_count": 4,
   "metadata": {},
   "outputs": [
    {
     "name": "stdout",
     "output_type": "stream",
     "text": [
      "Enter the username and password for login test:\n"
     ]
    },
    {
     "name": "stdout",
     "output_type": "stream",
     "text": [
      "\n",
      "Checking if the username exists in users_data:\n",
      "User exists in users_data.\n",
      "\n",
      "Vulnerable Login (with potential SQL injection):\n",
      "Login failed!\n",
      "\n",
      "Testing SQL Injection (bypassing login):\n",
      "Login successful!\n"
     ]
    }
   ],
   "source": [
    "import sqlite3\n",
    "\n",
    "conn = sqlite3.connect('login1.db')\n",
    "cursor = conn.cursor()\n",
    "\n",
    "cursor.execute('''\n",
    "CREATE TABLE IF NOT EXISTS users (\n",
    "    id INTEGER PRIMARY KEY,\n",
    "    username TEXT NOT NULL,\n",
    "    password TEXT NOT NULL\n",
    ")\n",
    "''')\n",
    "\n",
    "users_data = [\n",
    "    ('admin', 'admin123'),\n",
    "    ('user1', 'user1123'),\n",
    "    ('user2', 'user2123'),\n",
    "    ('user3', 'user3123'),\n",
    "    ('user4', 'user4123'),\n",
    "]\n",
    "\n",
    "cursor.executemany(\"INSERT INTO users (username, password) VALUES (?, ?)\", users_data)\n",
    "conn.commit()\n",
    "\n",
    "def vulnerable_login(username, password):\n",
    "    query = f\"SELECT * FROM users WHERE username = '{username}' AND password = '{password}'\"\n",
    "    cursor.execute(query)\n",
    "    result = cursor.fetchone()\n",
    "    if result:\n",
    "        return \"Login successful!\"\n",
    "    else:\n",
    "        return \"Login failed!\"\n",
    "\n",
    "def check_user_exists(username):\n",
    "    user_exists = False\n",
    "    for user in users_data:\n",
    "        if user[0] == username:\n",
    "            user_exists = True\n",
    "            break\n",
    "    return user_exists\n",
    "\n",
    "print(\"Enter the username and password for login test:\")\n",
    "input_username = input(\"Username: \")\n",
    "input_password = input(\"Password: \")\n",
    "\n",
    "print(\"\\nChecking if the username exists in users_data:\")\n",
    "if check_user_exists(input_username):\n",
    "    print(\"User exists in users_data.\")\n",
    "else:\n",
    "    print(\"User does not exist in users_data.\")\n",
    "\n",
    "print(\"\\nVulnerable Login (with potential SQL injection):\")\n",
    "print(vulnerable_login(input_username, input_password))\n",
    "\n",
    "injection_username = \"admin' OR '1'='1\"\n",
    "injection_password = \"\"\n",
    "\n",
    "print(\"\\nTesting SQL Injection (bypassing login):\")\n",
    "print(vulnerable_login(injection_username, injection_password))\n",
    "\n",
    "conn.close()"
   ]
  }
 ],
 "metadata": {
  "kernelspec": {
   "display_name": "Python 3",
   "language": "python",
   "name": "python3"
  },
  "language_info": {
   "codemirror_mode": {
    "name": "ipython",
    "version": 3
   },
   "file_extension": ".py",
   "mimetype": "text/x-python",
   "name": "python",
   "nbconvert_exporter": "python",
   "pygments_lexer": "ipython3",
   "version": "3.12.4"
  }
 },
 "nbformat": 4,
 "nbformat_minor": 2
}
